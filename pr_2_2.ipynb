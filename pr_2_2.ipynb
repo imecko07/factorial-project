{
 "cells": [
  {
   "cell_type": "code",
   "execution_count": null,
   "id": "c13a04dd",
   "metadata": {},
   "outputs": [],
   "source": [
    "def factorial(n):\n",
    "    if n == 0 or n == 1:\n",
    "        return 1\n",
    "    else:\n",
    "        return n * factorial(n-1)\n",
    "\n",
    "for i in range(5):\n",
    "    print(f\"Factorial {i} = {factorial(i)}\")\n",
    "\n",
    "number = int(input(\"Type number: \"))\n",
    "print(f\"Factorial {number} = {factorial(number)}\")"
   ]
  }
 ],
 "metadata": {
  "kernelspec": {
   "display_name": "Python 3",
   "language": "python",
   "name": "python3"
  },
  "language_info": {
   "codemirror_mode": {
    "name": "ipython",
    "version": 3
   },
   "file_extension": ".py",
   "mimetype": "text/x-python",
   "name": "python",
   "nbconvert_exporter": "python",
   "pygments_lexer": "ipython3",
   "version": "3.10.12"
  }
 },
 "nbformat": 4,
 "nbformat_minor": 5
}
